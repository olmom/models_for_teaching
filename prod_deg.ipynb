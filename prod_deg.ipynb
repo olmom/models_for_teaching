{
 "cells": [
  {
   "cell_type": "code",
   "execution_count": 1,
   "metadata": {},
   "outputs": [],
   "source": [
    "# import needed libraries\n",
    "import numpy as np\n",
    "import matplotlib.pyplot as plt\n",
    "from scipy.integrate import odeint\n",
    "plt.rcParams['axes.spines.right'] = False\n",
    "plt.rcParams['axes.spines.top'] = False"
   ]
  },
  {
   "cell_type": "code",
   "execution_count": 2,
   "metadata": {},
   "outputs": [],
   "source": [
    "# define model\n",
    "def production_decay (y0, t, parameters):\n",
    "    # variable\n",
    "    x = y0\n",
    "    # parameters (dictionary)\n",
    "    a = parameters['a']\n",
    "    lam = parameters['lam']\n",
    "    # ODE\n",
    "    dxdt = a - lam*x\n",
    "    return dxdt"
   ]
  },
  {
   "cell_type": "code",
   "execution_count": 3,
   "metadata": {},
   "outputs": [
    {
     "data": {
      "image/png": "[encoded data removed]",
      "text/plain": [
       "<Figure size 460.8x288 with 1 Axes>"
      ]
     },
     "metadata": {
      "needs_background": "light"
     },
     "output_type": "display_data"
    }
   ],
   "source": [
    "# PRODUCTION-DECAY MODEL\n",
    "# define time for integration\n",
    "dt = 0.01\n",
    "t = np.arange(0, 15, dt)\n",
    "\n",
    "# define initial condition\n",
    "x0_1, x0_2 = 1.5, 2.5\n",
    "\n",
    "# define parameters (as dictionary)\n",
    "parameters = {'a': 1,\n",
    "              'lam': .5}\n",
    "\n",
    "# solve ODE\n",
    "sol1 = odeint(production_decay, x0_1, t, args=(parameters,))\n",
    "sol2 = odeint(production_decay, x0_2, t, args=(parameters,))\n",
    "\n",
    "fig = plt.figure(figsize=(6.4,4.))\n",
    "ax = fig.add_subplot(1,1,1)\n",
    "ax.axhline(y=parameters['a']/parameters['lam'], linestyle='--', color='grey')\n",
    "ax.plot(t, sol1, lw=3, color=\"lightseagreen\")\n",
    "ax.plot(t, sol2, lw=3, color='lightseagreen')\n",
    "ax.set_xlabel('time $t$', fontsize=22)\n",
    "ax.set_ylabel('concentration of $X$', fontsize=22)\n",
    "ax.set_xlim([0, t[-1]])\n",
    "#ax.set_xticklabels([]); ax.set_yticklabels([])"
   ]
  },
  {
   "cell_type": "code",
   "execution_count": null,
   "metadata": {},
   "outputs": [],
   "source": [
    "# What happens for different initial conditions? Are all initial conditions \"attracted\" to the same value?\n",
    "# Is your analytical calculation of steady state(s) consistent with what you find from the time series?"
   ]
  },
  {
   "cell_type": "code",
   "execution_count": null,
   "metadata": {},
   "outputs": [],
   "source": [
    "#EXPONENTIAL PRODUCTION OR DECAY\n",
    "# define time for integration\n",
    "dt = 0.01\n",
    "t = np.arange(0, 30, dt)\n",
    "\n",
    "# define initial condition\n",
    "x0 = 0.1\n",
    "\n",
    "# define parameters (as dictionary)\n",
    "parameters1 = {'a': 0,\n",
    "              'lam': .15 }\n",
    "parameters2 = {'a': 0,\n",
    "              'lam': -.15 }\n",
    "\n",
    "# solve ODE\n",
    "sol1 = odeint(production_decay, x0, t, args=(parameters1,))\n",
    "sol2 = odeint(production_decay, x0, t, args=(parameters2,))\n",
    "\n",
    "# plot the solution over time\n",
    "fig = plt.figure(figsize=(6.4,4.8))\n",
    "ax = fig.add_subplot(1,1,1)\n",
    "ax.plot(t, sol1, label='$\\lambda<0$', lw=3, color='dodgerblue')\n",
    "ax.plot(t, sol2, label='$\\lambda>0$', lw=3, color='crimson')\n",
    "ax.set_xlabel('time $t$', fontsize=22)\n",
    "ax.set_ylabel('concentration of $X$', fontsize=22)\n",
    "ax.legend(framealpha=0, fontsize=22)\n",
    "ax.set_ylim([0,0.4]); ax.set_xlim([0, 30])\n",
    "ax.set_xticklabels([]); ax.set_yticklabels([])"
   ]
  }
 ],
 "metadata": {
  "kernelspec": {
   "display_name": "base",
   "language": "python",
   "name": "python3"
  },
  "language_info": {
   "codemirror_mode": {
    "name": "ipython",
    "version": 3
   },
   "file_extension": ".py",
   "mimetype": "text/x-python",
   "name": "python",
   "nbconvert_exporter": "python",
   "pygments_lexer": "ipython3",
   "version": "3.7.4"
  },
  "orig_nbformat": 4,
  "vscode": {
   "interpreter": {
    "hash": "387a8a03c6b48ad6962caf3e793e57a88434853821a848fd0b1cd5f533ea3059"
   }
  }
 },
 "nbformat": 4,
 "nbformat_minor": 2
}
