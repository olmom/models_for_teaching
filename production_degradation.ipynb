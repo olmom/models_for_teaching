{
 "cells": [
  {
   "cell_type": "code",
   "execution_count": 1,
   "metadata": {},
   "outputs": [],
   "source": [
    "# import needed libraries\n",
    "import numpy as np\n",
    "import matplotlib.pyplot as plt\n",
    "from scipy.integrate import odeint\n",
    "\n",
    "from ipywidgets import interact, interactive, fixed, interact_manual\n",
    "import ipywidgets as widgets"
   ]
  },
  {
   "cell_type": "code",
   "execution_count": 2,
   "metadata": {},
   "outputs": [],
   "source": [
    "# define model\n",
    "def production_decay (x0, t, parameters):\n",
    "    # variable\n",
    "    x = x0\n",
    "    # parameters (dictionary)\n",
    "    a = parameters['a'] # constant production of x\n",
    "    lam = parameters['lam'] #decay rate\n",
    "    # ODE\n",
    "    dxdt = a - lam*x\n",
    "    return dxdt"
   ]
  },
  {
   "cell_type": "code",
   "execution_count": 3,
   "metadata": {},
   "outputs": [
    {
     "data": {
      "application/vnd.jupyter.widget-view+json": {
       "model_id": "dbe009ec1c6b49eda6dd5498729534a9",
       "version_major": 2,
       "version_minor": 0
      },
      "text/plain": [
       "interactive(children=(FloatSlider(value=0.0, description='x01', max=8.0), FloatSlider(value=0.0, description='…"
      ]
     },
     "metadata": {},
     "output_type": "display_data"
    }
   ],
   "source": [
    "def production_decay_plot(x01=0., x02=0., x03=0., x04=0.):\n",
    "\n",
    "    # define time for integration\n",
    "    dt = 0.01\n",
    "    t = np.arange(0, 100, dt)\n",
    "\n",
    "    # define initial condition\n",
    "    x0 = 0.1\n",
    "\n",
    "    # define parameters (as dictionary)\n",
    "    parameters = {'a': 1, 'lam': .2 }\n",
    "\n",
    "    # solve ODE\n",
    "    sol1 = odeint(production_decay, x01, t, args=(parameters,))\n",
    "    sol2 = odeint(production_decay, x02, t, args=(parameters,))\n",
    "    sol3 = odeint(production_decay, x03, t, args=(parameters,))\n",
    "    sol4 = odeint(production_decay, x04, t, args=(parameters,))\n",
    "    \n",
    "    fig2 = plt.figure()\n",
    "    ax = fig2.add_subplot(1,1,1)\n",
    "    ax.plot(t, sol1)\n",
    "    ax.plot(t, sol2)\n",
    "    ax.plot(t, sol3)\n",
    "    ax.plot(t, sol4)\n",
    "    ax.set_xlabel('time t')\n",
    "    ax.set_ylabel('conc. x')\n",
    "    ax.set_label('time series of x')\n",
    "    \n",
    "widget = interactive(production_decay_plot, x01=(0., 8., 0.1), x02=(0., 8., 0.1), x03=(0., 8., 0.1), x04=(0., 8., 0.1))\n",
    "display(widget)"
   ]
  },
  {
   "cell_type": "markdown",
   "metadata": {},
   "source": [
    "What happens for different initial conditions? Are all initial conditions \"attracted\" to the same value?\\\n",
    "Can you calculate the steady state value analytically from the ordinary differential equation?\\\n",
    "Is your analytical calculation of steady state(s) consistent with what you find from the time series?"
   ]
  }
 ],
 "metadata": {
  "kernelspec": {
   "display_name": "Python 3 (ipykernel)",
   "language": "python",
   "name": "python3"
  },
  "language_info": {
   "codemirror_mode": {
    "name": "ipython",
    "version": 3
   },
   "file_extension": ".py",
   "mimetype": "text/x-python",
   "name": "python",
   "nbconvert_exporter": "python",
   "pygments_lexer": "ipython3",
   "version": "3.7.4"
  },
  "vscode": {
   "interpreter": {
    "hash": "387a8a03c6b48ad6962caf3e793e57a88434853821a848fd0b1cd5f533ea3059"
   }
  }
 },
 "nbformat": 4,
 "nbformat_minor": 2
}
