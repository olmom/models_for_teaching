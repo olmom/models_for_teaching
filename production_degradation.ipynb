{
 "cells": [
  {
   "cell_type": "code",
   "execution_count": 1,
   "metadata": {},
   "outputs": [],
   "source": [
    "# import needed libraries\n",
    "import numpy as np\n",
    "import matplotlib.pyplot as plt\n",
    "from scipy.integrate import odeint"
   ]
  },
  {
   "cell_type": "code",
   "execution_count": 2,
   "metadata": {},
   "outputs": [],
   "source": [
    "# define model\n",
    "def production_decay (y0, t, parameters):\n",
    "    # variable\n",
    "    x = y0\n",
    "    # parameters (dictionary)\n",
    "    a = parameters['a']\n",
    "    lam = parameters['lam']\n",
    "    # ODE\n",
    "    dxdt = a - lam*x\n",
    "    return dxdt"
   ]
  },
  {
   "cell_type": "code",
   "execution_count": 3,
   "metadata": {},
   "outputs": [],
   "source": [
    "# define time for integration\n",
    "dt = 0.01\n",
    "t = np.arange(0, 100, dt)\n",
    "\n",
    "# define initial condition\n",
    "x0 = 0.1\n",
    "\n",
    "# define parameters (as dictionary)\n",
    "parameters = {'a': 1,\n",
    "              'lam': .2 }\n",
    "\n",
    "# solve ODE\n",
    "sol = odeint(production_decay, x0, t, args=(parameters,))"
   ]
  },
  {
   "cell_type": "code",
   "execution_count": 4,
   "metadata": {},
   "outputs": [
    {
     "data": {
      "image/png": "[encoded data removed]",
      "text/plain": [
       "<Figure size 432x288 with 1 Axes>"
      ]
     },
     "metadata": {
      "needs_background": "light"
     },
     "output_type": "display_data"
    }
   ],
   "source": [
    "# plot the solution over time\n",
    "fig = plt.figure()\n",
    "ax = fig.add_subplot(1,1,1)\n",
    "ax.plot(t, sol)\n",
    "ax.set_xlabel('time t')\n",
    "ax.set_ylabel('conc. x')\n",
    "ax.set_label('time series of x')"
   ]
  },
  {
   "cell_type": "code",
   "execution_count": null,
   "metadata": {},
   "outputs": [],
   "source": [
    "# What happens for different initial conditions? Are all initial conditions \"attracted\" to the same value?\n",
    "# Is your analytical calculation of steady state(s) consistent with what you find from the time series?"
   ]
  }
 ],
 "metadata": {
  "kernelspec": {
   "display_name": "base",
   "language": "python",
   "name": "python3"
  },
  "language_info": {
   "codemirror_mode": {
    "name": "ipython",
    "version": 3
   },
   "file_extension": ".py",
   "mimetype": "text/x-python",
   "name": "python",
   "nbconvert_exporter": "python",
   "pygments_lexer": "ipython3",
   "version": "3.7.4"
  },
  "orig_nbformat": 4,
  "vscode": {
   "interpreter": {
    "hash": "387a8a03c6b48ad6962caf3e793e57a88434853821a848fd0b1cd5f533ea3059"
   }
  }
 },
 "nbformat": 4,
 "nbformat_minor": 2
}
