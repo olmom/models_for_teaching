{
 "cells": [
  {
   "cell_type": "code",
   "execution_count": 1,
   "metadata": {},
   "outputs": [],
   "source": [
    "# import needed libraries\n",
    "import numpy as np\n",
    "import matplotlib.pyplot as plt\n",
    "from scipy.integrate import odeint\n",
    "\n",
    "from ipywidgets import interact, interactive, fixed, interact_manual\n",
    "import ipywidgets as widgets"
   ]
  },
  {
   "cell_type": "code",
   "execution_count": 2,
   "metadata": {},
   "outputs": [],
   "source": [
    "# define ODE model\n",
    "def selkov (x0,t,parameters):\n",
    "    # parameters\n",
    "    alpha = parameters['alpha']\n",
    "    beta  = parameters['beta'] \n",
    "    gamma = parameters['gamma'] \n",
    "    # vaxiables\n",
    "    x = x0[0]\n",
    "    y = x0[1]\n",
    "    # ODEs\n",
    "    dxdt = alpha - beta*x*y**2 \n",
    "    dydt = beta*x*y**2 - gamma*y\n",
    "    return [dxdt, dydt]"
   ]
  },
  {
   "cell_type": "code",
   "execution_count": 3,
   "metadata": {
    "scrolled": false
   },
   "outputs": [
    {
     "data": {
      "application/vnd.jupyter.widget-view+json": {
       "model_id": "e1eba6a6b20848c196ff34b33d1157ea",
       "version_major": 2,
       "version_minor": 0
      },
      "text/plain": [
       "interactive(children=(FloatSlider(value=0.97, description='gamma', max=0.97, min=0.75, step=0.01), FloatSlider…"
      ]
     },
     "metadata": {},
     "output_type": "display_data"
    }
   ],
   "source": [
    "def selkov_plot(gamma=0.9, x0=1., y0=0.99):\n",
    "\n",
    "    # define time, initial conditions and parameters for integration\n",
    "    t = np.arange(0, 200, 0.01)\n",
    "    x0y0 = [x0, y0]\n",
    "    parameters = {'alpha':0.9, 'beta':1, 'gamma':gamma}\n",
    "\n",
    "    # solve ODE model\n",
    "    sol = odeint(selkov, x0y0, t, args=(parameters,))\n",
    "    x = sol[:,0] \n",
    "    y = sol[:,1] \n",
    "\n",
    "    # plot solution \n",
    "    # subplot 1: time series\n",
    "    fig1 = plt.figure(figsize=(11,5))\n",
    "\n",
    "    ax1 = fig1.add_subplot(121)\n",
    "    ax1.plot(t, x, label='x')\n",
    "    ax1.plot(t, y, label='y')\n",
    "    ax1.legend()\n",
    "    ax1.set_xlabel('time t'); ax1.set_ylabel('concentration')\n",
    "    ax1.set_title('time series')\n",
    "\n",
    "    # subplot 2: phase space \n",
    "    ax2 = fig1.add_subplot(122)\n",
    "    ax2.plot(x, y)\n",
    "    ax2.set_xlabel('conc. x'); ax2.set_ylabel('conc. y')\n",
    "    ax2.set_title('phase space')\n",
    "    ax2.set_xlim(0.2, 2.6)\n",
    "    #ax2.set_xlim(0.7, 1.2)\n",
    "    ax2.set_ylim(0.3, 2.4)\n",
    "    #ax2.set_ylim(0.6, 1.2)\n",
    "    \n",
    "widget = interactive(selkov_plot, gamma=(0.75, 0.97, 0.01), x0=(1., 2., 0.1), y0=(0.1, 1., 0.1))\n",
    "display(widget)"
   ]
  },
  {
   "cell_type": "markdown",
   "metadata": {},
   "source": [
    "What happens as $\\gamma$ is changed gradually?\\\n",
    "What is the effect of different initial conditions at large $\\gamma$?\n",
    "What is the effect of different initial conditions at small $\\gamma$? "
   ]
  },
  {
   "cell_type": "code",
   "execution_count": null,
   "metadata": {},
   "outputs": [],
   "source": []
  }
 ],
 "metadata": {
  "kernelspec": {
   "display_name": "Python 3 (ipykernel)",
   "language": "python",
   "name": "python3"
  },
  "language_info": {
   "codemirror_mode": {
    "name": "ipython",
    "version": 3
   },
   "file_extension": ".py",
   "mimetype": "text/x-python",
   "name": "python",
   "nbconvert_exporter": "python",
   "pygments_lexer": "ipython3",
   "version": "3.7.4"
  },
  "vscode": {
   "interpreter": {
    "hash": "387a8a03c6b48ad6962caf3e793e57a88434853821a848fd0b1cd5f533ea3059"
   }
  }
 },
 "nbformat": 4,
 "nbformat_minor": 2
}
