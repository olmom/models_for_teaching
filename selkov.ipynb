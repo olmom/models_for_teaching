{
 "cells": [
  {
   "cell_type": "code",
   "execution_count": 1,
   "metadata": {},
   "outputs": [],
   "source": [
    "# import needed libraries\n",
    "import numpy as np\n",
    "import matplotlib.pyplot as plt\n",
    "from scipy.integrate import odeint"
   ]
  },
  {
   "cell_type": "code",
   "execution_count": 2,
   "metadata": {},
   "outputs": [],
   "source": [
    "# define ODE model\n",
    "def selkov (y0,t,parameters):\n",
    "    # parameters\n",
    "    alpha = parameters['alpha']\n",
    "    beta  = parameters['beta'] \n",
    "    gamma = parameters['gamma'] \n",
    "    # variables\n",
    "    x = y0[0]\n",
    "    y = y0[1]\n",
    "    # ODEs\n",
    "    dxdt = alpha - beta*x*y**2 \n",
    "    dydt = beta*x*y**2 - gamma*y\n",
    "    return [dxdt, dydt]"
   ]
  },
  {
   "cell_type": "code",
   "execution_count": 3,
   "metadata": {},
   "outputs": [],
   "source": [
    "# define time, initial conditions and parameters for integration\n",
    "\n",
    "# solve ODE model\n",
    "\n",
    "# plot solution \n",
    "# subplot 1: time series\n",
    "\n",
    "# subplot 2: phase space "
   ]
  },
  {
   "cell_type": "code",
   "execution_count": 4,
   "metadata": {},
   "outputs": [],
   "source": [
    "# what happens as gamma is changed gradually? (first check the case of gamma=0.9)\n",
    "\n",
    "# solve ODE model\n",
    "\n",
    "\n",
    "# plot solution \n",
    "# subplot 1: time series\n",
    "\n",
    "# subplot 2: phase space "
   ]
  },
  {
   "cell_type": "code",
   "execution_count": 5,
   "metadata": {},
   "outputs": [],
   "source": [
    "# what happens as gamma increases? (now check the case of gamma=0.95)\n",
    "\n",
    "# what happens with different initial conditions? \n",
    "\n",
    "# plot \n",
    "# subplot 1: concentration of x\n",
    "\n",
    "# subplot 2: phase portraits for the different solutions "
   ]
  }
 ],
 "metadata": {
  "kernelspec": {
   "display_name": "base",
   "language": "python",
   "name": "python3"
  },
  "language_info": {
   "codemirror_mode": {
    "name": "ipython",
    "version": 3
   },
   "file_extension": ".py",
   "mimetype": "text/x-python",
   "name": "python",
   "nbconvert_exporter": "python",
   "pygments_lexer": "ipython3",
   "version": "3.7.4"
  },
  "orig_nbformat": 4,
  "vscode": {
   "interpreter": {
    "hash": "387a8a03c6b48ad6962caf3e793e57a88434853821a848fd0b1cd5f533ea3059"
   }
  }
 },
 "nbformat": 4,
 "nbformat_minor": 2
}
