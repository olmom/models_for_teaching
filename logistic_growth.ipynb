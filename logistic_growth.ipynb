{
 "cells": [
  {
   "cell_type": "code",
   "execution_count": 1,
   "metadata": {},
   "outputs": [],
   "source": [
    "# import needed libraries\n",
    "import numpy as np\n",
    "import matplotlib.pyplot as plt\n",
    "from scipy.integrate import odeint"
   ]
  },
  {
   "cell_type": "code",
   "execution_count": 2,
   "metadata": {},
   "outputs": [],
   "source": [
    "# try to define the ODE model for logistic growth yourself before reading further!!\n",
    "def logistic_growth (y0, t, parameters):\n",
    "    # maybe you can get inspired in how we did it for the production_decay model\n",
    "    return"
   ]
  },
  {
   "cell_type": "code",
   "execution_count": 13,
   "metadata": {},
   "outputs": [],
   "source": [
    "# define ODE model\n",
    "def logistic_growth (y0, t, parameters):\n",
    "    # variable\n",
    "    x = y0\n",
    "    # parameters (dictionary)\n",
    "    lam = parameters['lam']\n",
    "    K = parameters['K']\n",
    "    # ODE\n",
    "    dxdt = lam*x * (1-x/K)\n",
    "    return dxdt"
   ]
  },
  {
   "cell_type": "code",
   "execution_count": 4,
   "metadata": {},
   "outputs": [],
   "source": [
    "# Make sure that the steady state(s) you found analytically are indeed confirmed through a time-series simulation\n",
    "# Tip: remember, the steady state is the value to which the system tends after very long periods of time\n",
    "# so what you want to find is the solution of the ODE (using odeint) and what is the x value after a long time\n",
    "\n",
    "# Use production_degradation.ipynb if you need inspiration in how to get there and follow the next suggested steps"
   ]
  },
  {
   "cell_type": "code",
   "execution_count": 17,
   "metadata": {},
   "outputs": [],
   "source": [
    "# define time\n",
    "\n",
    "# define initial conditions\n",
    "\n",
    "# define parameters\n",
    "parameters = {'lam':0.1, 'K':2000}\n",
    "\n",
    "# solve ODE model\n",
    "\n",
    "# plot solution (time series)"
   ]
  }
 ],
 "metadata": {
  "kernelspec": {
   "display_name": "base",
   "language": "python",
   "name": "python3"
  },
  "language_info": {
   "codemirror_mode": {
    "name": "ipython",
    "version": 3
   },
   "file_extension": ".py",
   "mimetype": "text/x-python",
   "name": "python",
   "nbconvert_exporter": "python",
   "pygments_lexer": "ipython3",
   "version": "3.7.4"
  },
  "orig_nbformat": 4,
  "vscode": {
   "interpreter": {
    "hash": "387a8a03c6b48ad6962caf3e793e57a88434853821a848fd0b1cd5f533ea3059"
   }
  }
 },
 "nbformat": 4,
 "nbformat_minor": 2
}
