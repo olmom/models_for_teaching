{
 "cells": [
  {
   "cell_type": "code",
   "execution_count": 1,
   "metadata": {},
   "outputs": [],
   "source": [
    "# import needed libraries\n",
    "import numpy as np\n",
    "import matplotlib.pyplot as plt\n",
    "from scipy.integrate import odeint"
   ]
  },
  {
   "cell_type": "code",
   "execution_count": 2,
   "metadata": {},
   "outputs": [],
   "source": [
    "# define ODE model\n",
    "def lotkavolterra(y0,t,parameters):\n",
    "    # parameters\n",
    "    alpha = parameters['alpha'] # rabbit growth rate\n",
    "    beta = parameters['beta']   # rabbit decay rate (killed by foxes)\n",
    "    gamma = parameters['gamma'] # fox growth rate (eating rabbits)\n",
    "    delta = parameters['delta'] # fox decay rate\n",
    "    # variables\n",
    "    x = y0[0]\n",
    "    y = y0[1]\n",
    "    # ODEs\n",
    "    dxdt = alpha*x - beta*x*y #rate of change of number of rabbits over time\n",
    "    dydt = gamma*x*y - delta*y #rate of change of number of foxes over time\n",
    "    return [dxdt, dydt]"
   ]
  },
  {
   "cell_type": "code",
   "execution_count": 3,
   "metadata": {},
   "outputs": [],
   "source": [
    "# define time, initial conditions and parameters for integration\n",
    "\n",
    "# solve ODE model\n",
    "\n",
    "# plot solution \n",
    "# subplot 1: time series\n",
    "\n",
    "# subplot 2: phase space (instead of x vs t, phase space is one variable vs another)"
   ]
  },
  {
   "cell_type": "code",
   "execution_count": 4,
   "metadata": {},
   "outputs": [],
   "source": [
    "# what happens with different initial conditions?\n",
    "\n",
    "# plot \n",
    "# subplot 1: population of rabbits\n",
    "\n",
    "# subplot 2: population of foxes \n",
    "\n",
    "# subplot 3: phase portraits for the different solutions "
   ]
  }
 ],
 "metadata": {
  "kernelspec": {
   "display_name": "base",
   "language": "python",
   "name": "python3"
  },
  "language_info": {
   "codemirror_mode": {
    "name": "ipython",
    "version": 3
   },
   "file_extension": ".py",
   "mimetype": "text/x-python",
   "name": "python",
   "nbconvert_exporter": "python",
   "pygments_lexer": "ipython3",
   "version": "3.7.4"
  },
  "orig_nbformat": 4,
  "vscode": {
   "interpreter": {
    "hash": "387a8a03c6b48ad6962caf3e793e57a88434853821a848fd0b1cd5f533ea3059"
   }
  }
 },
 "nbformat": 4,
 "nbformat_minor": 2
}
